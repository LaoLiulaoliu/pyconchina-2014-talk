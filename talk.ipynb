{
 "metadata": {
  "celltoolbar": "Slideshow",
  "name": "",
  "signature": "sha256:f7117e51df7d2ed39e36163a268b86d17028f505d3d51f3af82bcbfe69c29ad1"
 },
 "nbformat": 3,
 "nbformat_minor": 0,
 "worksheets": [
  {
   "cells": [
    {
     "cell_type": "markdown",
     "metadata": {
      "slideshow": {
       "slide_type": "slide"
      }
     },
     "source": [
      "<h1 class=\"title\">Python\u673a\u5668\u5b66\u4e60\u5b9e\u8df5</h1>\n",
      "<center><h3><a href=\"https://github.com/observerss/pyconchina-2014-talk\">https://github.com/observerss/pyconchina-2014-talk</a></h3></center>"
     ]
    },
    {
     "cell_type": "markdown",
     "metadata": {},
     "source": [
      "<center>\n",
      "<div>\n",
      "    <img src=\"images/pyconlogo.png\" style=\"height:300px;\" />\n",
      "</div>\n",
      "\n",
      "<h2>JingchaoHu (@observerss)</h2>\n",
      "<div>\n",
      "    <img src=\"images/qisense-logo.png\" style=\"height:50px;\" />\n",
      "</div>\n",
      "\n",
      "</center>"
     ]
    },
    {
     "cell_type": "markdown",
     "metadata": {
      "slideshow": {
       "slide_type": "notes"
      }
     },
     "source": [
      "- \u4ecb\u7ecd\u81ea\u5df1\n",
      "- \u7b80\u5355\u4ecb\u7ecd\u8bae\u9898\n",
      "- \u4e92\u52a8\u8c03\u67e5\u4e00\u4e0b\u89c2\u4f17\u63a5\u53d7\u5ea6 (\u77e5\u9053\u6216\u4e86\u89e3ML, \u5728\u5b66\u6821\u6216coursera\u5b66\u8fc7ML, \u5de5\u4f5c\u4e2d\u7ecf\u5e38\u4f7f\u7528ML)"
     ]
    },
    {
     "cell_type": "markdown",
     "metadata": {
      "slideshow": {
       "slide_type": "slide"
      }
     },
     "source": [
      "<h1> \u6f14\u8bb2\u5927\u7eb2 </h1>\n",
      "\n",
      "* \u4e00\u3001\u673a\u5668\u5b66\u4e60\u57fa\u672c\u6982\u5ff5\n",
      "* \u4e8c\u3001\u4e3e\u4f8b\u8bf4\u660e\u6574\u4e2a\u673a\u5668\u5b66\u4e60\u7684\u6d41\u7a0b\n",
      "* \u4e09\u3001\u673a\u5668\u5b66\u4e60\u751f\u6001\u5708\u4e0ePython"
     ]
    },
    {
     "cell_type": "markdown",
     "metadata": {
      "slideshow": {
       "slide_type": "slide"
      }
     },
     "source": [
      "<h1 class=\"bigtitle\">\u4e00\u3001\u673a\u5668\u5b66\u4e60\u7684\u57fa\u672c\u6982\u5ff5</h1>"
     ]
    },
    {
     "cell_type": "heading",
     "level": 1,
     "metadata": {
      "slideshow": {
       "slide_type": "slide"
      }
     },
     "source": [
      "\u4ec0\u4e48\u662f\u673a\u5668\u5b66\u4e60(Machine Learning)?"
     ]
    },
    {
     "cell_type": "markdown",
     "metadata": {
      "slideshow": {
       "slide_type": "-"
      }
     },
     "source": [
      "* \"... algorithms that can learn from data\" - wikipedia\n",
      "* \u80fd\u4ece\u6570\u636e\u4e2d\u5b66\u4e60\u7684\u7b97\u6cd5"
     ]
    },
    {
     "cell_type": "markdown",
     "metadata": {
      "slideshow": {
       "slide_type": "-"
      }
     },
     "source": [
      " | \u751f\u6210 | \u6784\u5efa | \u6570\u636e\n",
      "--- | --- | --- | ---\n",
      "\u666e\u901a\u7b97\u6cd5 | \u89c4\u5219 | \u7a0b\u5e8f\u5458\u5236\u5b9a | \u5c0f\u6216\u7b80\u5355\n",
      "\u673a\u5668\u5b66\u4e60 | \u6a21\u5f0f(Pattern) | \u7531\u6570\u636e\u6765\u8bad\u7ec3 | \u5927\u800c\u590d\u6742"
     ]
    },
    {
     "cell_type": "markdown",
     "metadata": {
      "slideshow": {
       "slide_type": "fragment"
      }
     },
     "source": [
      "* \u4eba\u5de5\u667a\u80fd, \u673a\u5668\u5b66\u4e60, \u6570\u636e\u6316\u6398, \u6a21\u5f0f\u8bc6\u522b, \u77e5\u8bc6\u53d1\u73b0(KDD)?\n",
      "    * \u4eba\u5de5\u667a\u80fd = {\u673a\u5668\u5b66\u4e60, \u6570\u636e\u6316\u6398, \u6a21\u5f0f\u8bc6\u522b, \u77e5\u8bc6\u53d1\u73b0, ...}\n",
      "    * \u540e\u9762\u56db\u4e2a\u91cd\u53e0\u5ea6\u592a\u5927, \u6ca1\u6709\u6e05\u6670\u754c\u5b9a\n",
      "    * \u673a\u5668\u5b66\u4e60\u3001\u6a21\u5f0f\u8bc6\u522b: \u504f\u91cd\u4e8e\u8bad\u7ec3\u6a21\u578b\u7528\u4e8e\u9884\u6d4b\u5206\u6790\n",
      "    * \u6570\u636e\u6316\u6398\u3001\u77e5\u8bc6\u53d1\u73b0: \u504f\u91cd\u4e8e\u53d1\u73b0\u6570\u636e\u7684\u5185\u90e8\u903b\u8f91\u3001\u5173\u7cfb"
     ]
    },
    {
     "cell_type": "heading",
     "level": 1,
     "metadata": {
      "slideshow": {
       "slide_type": "slide"
      }
     },
     "source": [
      "<h1> \u673a\u5668\u5b66\u4e60\u7684\u5e94\u7528 </h1>"
     ]
    },
    {
     "cell_type": "markdown",
     "metadata": {},
     "source": [
      "- \u63a8\u8350\u7535\u5f71, \u5546\u54c1, \u97f3\u4e50, ... \n",
      "- \u9884\u6d4b\u9500\u91cf, \u6d41\u91cf, \u4ef7\u683c, \u70b9\u51fb\u7387(CTR), ...\n",
      "- \u76d1\u6d4b\u5f02\u5e38, \u6b3a\u8bc8, \u5783\u573e(\u90ae\u4ef6/\u5e7f\u544a), ...\n",
      "- \u8bc6\u522b\u8bed\u97f3, \u56fe\u50cf, \u8bed\u4e49, ...\n",
      "- \u5176\u4ed6..."
     ]
    },
    {
     "cell_type": "markdown",
     "metadata": {
      "slideshow": {
       "slide_type": "slide"
      }
     },
     "source": [
      "<h1>\u673a\u5668\u5b66\u4e60\u7b97\u6cd5\u7684\u5927\u81f4\u5206\u7c7b</h1>\n",
      "\n",
      "* \u5206\u7c7b: \u5df2\u77e5\u591a\u4e2a\u6837\u672c\u4ee5\u53ca\u4ed6\u4eec\u6240\u5c5e\u7684\u5206\u7c7b, \u4ea7\u751f\u6a21\u578b\u9884\u6d4b\u65b0\u6837\u672c\u7684\u5206\u7c7b\n",
      "    * \u5170\u82b1\u95ee\u9898: \u5df2\u77e5\u5170\u82b1\u7684\u82b1\u843c\u957f\u5bbd\u4e0e\u82b1\u74e3\u957f\u5bbd\u4e0e\u54c1\u79cd, \u9884\u6d4b\u65b0\u5170\u82b1\u7684\u54c1\u79cd\n",
      "    * \u624b\u5199\u6570\u5b57\u95ee\u9898: \u5df2\u77e5\u4e00\u7cfb\u5217\u624b\u5199\u76840-9\u7684\u6570\u5b57, \u9884\u6d4b\u65b0\u624b\u5199\u6570\u5b57\u662f\u4ec0\u4e48"
     ]
    },
    {
     "cell_type": "markdown",
     "metadata": {
      "slideshow": {
       "slide_type": "fragment"
      }
     },
     "source": [
      "* \u56de\u5f52: \u5df2\u77e5\u591a\u4e2a\u6837\u672c\u4ee5\u53ca\u4ed6\u4eec\u6240\u5bf9\u5e94\u7684\u503c(\u8fde\u7eed\u6027), \u4ea7\u751f\u6a21\u578b\u9884\u6d4b\u65b0\u6837\u672c\u7684\u503c\n",
      "    * \u6ce2\u58eb\u987f\u623f\u4ef7\u95ee\u9898: \u5df2\u77e5\u6ce2\u58eb\u987f\u5f88\u591a\u623f\u5b50\u7684\u4f4d\u7f6e, \u9762\u79ef\u7b49\u6761\u4ef6\u4e0e\u4ef7\u683c, \u9884\u6d4b\u5176\u4ed6\u623f\u5b50\u7684\u4ef7\u683c\n",
      "    * \u6c7d\u8f66\u6cb9\u8017\u95ee\u9898: \u5df2\u77e5\u6c7d\u8f66\u9a6c\u529b, \u91cd\u91cf\u7b49\u56e0\u7d20, \u9884\u6d4b\u6c7d\u8f66\u6cb9\u8017(\u5404\u7279\u5f81\u5bf9\u6cb9\u8017\u7684\u5f71\u54cd)"
     ]
    },
    {
     "cell_type": "markdown",
     "metadata": {
      "slideshow": {
       "slide_type": "fragment"
      }
     },
     "source": [
      "* \u805a\u7c7b: \u5df2\u77e5\u591a\u4e2a\u6837\u672c, \u4f46\u672a\u77e5\u4ed6\u4eec\u6240\u5c5e\u7684\u5206\u7c7b, \u4ea7\u751f\u6a21\u578b\u9884\u6d4b\u6837\u672c\u7684\u5206\u7c7b\u5173\u7cfb\n",
      "    * \u793e\u4ea4\u7f51\u7edc\u5708\u5b50\u95ee\u9898: \u90a3\u4e9b\u7528\u6237\u5c5e\u4e8e\u540c\u4e00\u4e2a\u5708\u5b50? "
     ]
    },
    {
     "cell_type": "markdown",
     "metadata": {
      "slideshow": {
       "slide_type": "slide"
      }
     },
     "source": [
      "<h1 class=\"bigtitle\">\u4e8c\u3001\u673a\u5668\u5b66\u4e60\u7684\u6d41\u7a0b\u4e0e\u7b97\u6cd5(\u6848\u4f8b\u8bf4\u660e)</h1>"
     ]
    },
    {
     "cell_type": "markdown",
     "metadata": {
      "slideshow": {
       "slide_type": "slide"
      }
     },
     "source": [
      "<h1>\u9884\u6d4b\u6a21\u578b\u7684\u4e00\u822c\u6d41\u7a0b</h1>"
     ]
    },
    {
     "cell_type": "code",
     "collapsed": false,
     "input": [
      "from helpers.interact import StaticBuildHtml, _get_html\n",
      "from IPython.display import Image, HTML\n",
      "StaticBuildHtml([Image(url='images/pm1.png'),\n",
      "                 Image(url='images/pm2.png')], rightclick=True, center=True)"
     ],
     "language": "python",
     "metadata": {},
     "outputs": [
      {
       "html": [
        "<center>\n",
        "    <style>\n",
        "    *:focus {\n",
        "     outline:none;\n",
        "    }\n",
        "    </style>\n",
        "    <script type=\"text/javascript\">\n",
        "    function ProgressForward(div){\n",
        "    var control = div.getElementsByTagName(\"input\")[0];\n",
        "    var outputs = div.getElementsByTagName(\"div\");\n",
        "    control.value = parseInt(control.value) + 1;\n",
        "    if (control.value >= outputs.length - 1) {\n",
        "        control.value = outputs.length - 2;\n",
        "    }\n",
        "    for(i=0; i<outputs.length; i++){\n",
        "        var name = outputs[i].getAttribute(\"name\");\n",
        "        if(name == \"name\" + control.value){\n",
        "            outputs[i].style.display = 'block';\n",
        "        } else if (name != \"control\"){\n",
        "            outputs[i].style.display = 'none'\n",
        "        }\n",
        "    }\n",
        "    }\n",
        "\n",
        "    function ProgressBackward(div){\n",
        "    var control = div.getElementsByTagName(\"input\")[0];\n",
        "    var outputs = div.getElementsByTagName(\"div\");\n",
        "    control.value = parseInt(control.value) - 1;\n",
        "    if (control.value <= 0) {\n",
        "        control.value=0;\n",
        "    }\n",
        "    for(i=0; i<outputs.length; i++){\n",
        "        var name = outputs[i].getAttribute(\"name\");\n",
        "        if(name == \"name\" + control.value){\n",
        "            outputs[i].style.display = 'block';\n",
        "        } else if (name != \"control\"){\n",
        "            outputs[i].style.display = 'none'\n",
        "        }\n",
        "    }\n",
        "    }\n",
        "\n",
        "    // Use \"a\" to go forward, \"r\" to go back. Or click to progress\n",
        "    function HandleKey(div){\n",
        "    var key = window.event.keyCode;\n",
        "    if (key == 65) {\n",
        "       ProgressForward(div);\n",
        "    }\n",
        "    if (key == 82) {\n",
        "       ProgressBackward(div);\n",
        "    }\n",
        "    }\n",
        "    </script>\n",
        "    <div name=\"control\" oncontextmenu=\"ProgressForward(this.parentNode);return false;\" onkeyup=\"HandleKey(this.parentNode);\" tabindex=\"0\">\n",
        "      \n",
        "    <div name=\"name0\" style=\"display:block\">\n",
        "      <img src=\"images/pm1.png\"/>\n",
        "    </div>\n",
        "    \n",
        "    <div name=\"name1\" style=\"display:none\">\n",
        "      <img src=\"images/pm2.png\"/>\n",
        "    </div>\n",
        "    \n",
        "    <div name=\"name2\" style=\"display:none\">\n",
        "      <img src=\"images/pm2.png\"/>\n",
        "    </div>\n",
        "    \n",
        "      <input type=\"none\" value=\"0\" style=\"display:none;\">\n",
        "    </div>\n",
        "    </center>"
       ],
       "metadata": {},
       "output_type": "pyout",
       "prompt_number": 5,
       "text": [
        "<helpers.interact.StaticBuildHtml at 0x107d27b00>"
       ]
      }
     ],
     "prompt_number": 5
    },
    {
     "cell_type": "markdown",
     "metadata": {
      "slideshow": {
       "slide_type": "slide"
      }
     },
     "source": [
      "<h1>\u4e92\u8054\u7f51\u516c\u53f8\u5e02\u503c\u54ea\u5bb6\u5f3a? </h1>"
     ]
    },
    {
     "cell_type": "code",
     "collapsed": false,
     "input": [
      "from IPython.display import Image\n",
      "Image(url='images/ma.png')"
     ],
     "language": "python",
     "metadata": {
      "slideshow": {
       "slide_type": "-"
      }
     },
     "outputs": [
      {
       "html": [
        "<img src=\"images/ma.png\"/>"
       ],
       "metadata": {},
       "output_type": "pyout",
       "prompt_number": 63,
       "text": [
        "<IPython.core.display.Image at 0x113c506d8>"
       ]
      }
     ],
     "prompt_number": 63
    },
    {
     "cell_type": "markdown",
     "metadata": {
      "slideshow": {
       "slide_type": "notes"
      }
     },
     "source": [
      "- \u8fd9\u4e2a\u624b\u6301\u9524\u5b50\u7684\u53d1\u51fa\u90aa\u7b11\u7684\u4eba\u6700\u8fd1\u4e00\u76f4\u633a\u706b\n",
      "- 9\u6708\u4efd\u516c\u53f8\u4e0a\u5e02, \u9020\u5c31\u4e86\u4e00\u6279\u5bcc\u8c6aIT\u9636\u5c42\n",
      "- \u53cc11\u521a\u5927\u635e\u4e86570\u4ebf, \u8ba9\u6211\u7684\u94f6\u5b50\u5927\u51fa\u8840\u4e86\u4e00\u56de"
     ]
    },
    {
     "cell_type": "markdown",
     "metadata": {
      "slideshow": {
       "slide_type": "slide"
      }
     },
     "source": [
      "<h1> \u6570\u636e\u51c6\u5907</h1>"
     ]
    },
    {
     "cell_type": "code",
     "collapsed": false,
     "input": [
      "import pandas as pd\n",
      "from helpers.pretty_table import PrettyTable, TableStyle, CellStyle\n",
      "from helpers.interact import StaticBuildTable\n",
      "from collections import OrderedDict\n",
      "\n",
      "df = pd.DataFrame(OrderedDict([\n",
      "    (\"\u6837\u672c\\\\\u7279\u5f81\", [\"Google\", \"Apple\", \"Microsoft\", \"Amazon\", \"Ebay\", \"Baidu\", \"Vipshop\", \"JD\", \"Alibaba\"]),\n",
      "    (\"\u4e0a\u5e74\u8425\u6536(B)\", [59.825, 182.795, 86.83, 74.45, 16.05, 5.152, 1.522, 11.5, 8.47]), \n",
      "    (\"\u96c7\u5458\u6570\", [47576, 80300, 100518, 109800, 33500, 40500, 8540, 62061, 26845]), \n",
      "    (\"\u56fd\u5bb6\", [\"US\", \"US\", \"US\", \"US\", \"US\", \"CN\", \"CN\", \"CN\", \"CN\"]), \n",
      "    (\"\u5e02\u503c(B)\", [370.97, 637.51, 401.43, 137.35, 66.17, 83.09, 13.26, 33.53, \"?\"]),\n",
      "]))\n",
      "pt = PrettyTable(df[:8], tstyle=TableStyle(theme=\"theme2\"), center=True)\n",
      "cs = CellStyle()\n",
      "cs.set(\"background-color\", \"while\")\n",
      "cs.set(\"color\", \"purple\")\n",
      "pt.set_cell_style(style=cs)\n",
      "pt.update_cell_style(cols=[0], format_function=lambda x: \"%.3f\"%x)\n",
      "\n",
      "def f1(pt):\n",
      "    pt.update_cell_style(rows=[0,1,2,3,4,5,6,7], cols=[0], color=\"red\", font_weight=\"bold\")\n",
      "    \n",
      "def f2(pt):\n",
      "    pt.update_col_header_style([1,2,3], color=\"black\", font_weight=\"bold\")\n",
      "    \n",
      "def f3(pt):\n",
      "    pt.update_col_header_style([4], color=\"blue\", font_weight=\"bold\")\n",
      "    pt.update_cell_style(rows=[0,1,2,3,4,5,6,7], cols=[4], color=\"blue\", font_weight=\"bold\")\n",
      "    \n"
     ],
     "language": "python",
     "metadata": {},
     "outputs": [],
     "prompt_number": 7
    },
    {
     "cell_type": "code",
     "collapsed": false,
     "input": [
      "df = pd.DataFrame(OrderedDict([\n",
      "    (\"\u6837\u672c\\\\\u7279\u5f81\", [\"Google\", \"Apple\", \"Microsoft\", \"Amazon\", \"Ebay\", \"Baidu\", \"Vipshop\", \"JD\", \"Alibaba\"]),\n",
      "    (\"\u4e0a\u5e74\u8425\u6536(B)\", [59.825, 182.795, 86.83, 74.45, 16.05, 5.152, 1.522, 11.5, 8.47]), \n",
      "    (\"\u96c7\u5458\u6570\", [47576, 80300, 100518, 109800, 33500, 40500, 8540, 62061, 26845]), \n",
      "    (\"\u56fd\u5bb6\", [\"US\", \"US\", \"US\", \"US\", \"US\", \"CN\", \"CN\", \"CN\", \"CN\"]), \n",
      "    (\"\u5e02\u503c(B)\", [370.97, 637.51, 401.43, 137.35, 66.17, 83.09, 13.26, 33.53, \"?\"]),\n",
      "]))\n",
      "\n",
      "StaticBuildTable(pt, [f1, f2, f3], rightclick=True, center=True)"
     ],
     "language": "python",
     "metadata": {},
     "outputs": [
      {
       "html": [
        "<center>\n",
        "    <style>\n",
        "    *:focus {\n",
        "     outline:none;\n",
        "    }\n",
        "    </style>\n",
        "    <script type=\"text/javascript\">\n",
        "    function ProgressForward(div){\n",
        "    var control = div.getElementsByTagName(\"input\")[0];\n",
        "    var outputs = div.getElementsByTagName(\"div\");\n",
        "    control.value = parseInt(control.value) + 1;\n",
        "    if (control.value >= outputs.length - 1) {\n",
        "        control.value = outputs.length - 2;\n",
        "    }\n",
        "    for(i=0; i<outputs.length; i++){\n",
        "        var name = outputs[i].getAttribute(\"name\");\n",
        "        if(name == \"name\" + control.value){\n",
        "            outputs[i].style.display = 'block';\n",
        "        } else if (name != \"control\"){\n",
        "            outputs[i].style.display = 'none'\n",
        "        }\n",
        "    }\n",
        "    }\n",
        "\n",
        "    function ProgressBackward(div){\n",
        "    var control = div.getElementsByTagName(\"input\")[0];\n",
        "    var outputs = div.getElementsByTagName(\"div\");\n",
        "    control.value = parseInt(control.value) - 1;\n",
        "    if (control.value <= 0) {\n",
        "        control.value=0;\n",
        "    }\n",
        "    for(i=0; i<outputs.length; i++){\n",
        "        var name = outputs[i].getAttribute(\"name\");\n",
        "        if(name == \"name\" + control.value){\n",
        "            outputs[i].style.display = 'block';\n",
        "        } else if (name != \"control\"){\n",
        "            outputs[i].style.display = 'none'\n",
        "        }\n",
        "    }\n",
        "    }\n",
        "\n",
        "    // Use \"a\" to go forward, \"r\" to go back. Or click to progress\n",
        "    function HandleKey(div){\n",
        "    var key = window.event.keyCode;\n",
        "    if (key == 65) {\n",
        "       ProgressForward(div);\n",
        "    }\n",
        "    if (key == 82) {\n",
        "       ProgressBackward(div);\n",
        "    }\n",
        "    }\n",
        "    </script>\n",
        "    <div name=\"control\" oncontextmenu=\"ProgressForward(this.parentNode);return false;\" onkeyup=\"HandleKey(this.parentNode);\" tabindex=\"0\">\n",
        "      \n",
        "    <div name=\"name0\" style=\"display:block\">\n",
        "      <center><table style=\"\"><tr style=\"\"><td style=\"\">\u6837\u672c\\\u7279\u5f81</td><td style=\"\">\u4e0a\u5e74\u8425\u6536(B)</td><td style=\"\">\u96c7\u5458\u6570</td><td style=\"\">\u56fd\u5bb6</td><td style=\"\">\u5e02\u503c(B)</td></tr><tr style=\"\"><td style=\"color: purple;background-color: while;\">Google</td><td style=\"color: purple;background-color: while;\">59.825</td><td style=\"color: purple;background-color: while;\">47576</td><td style=\"color: purple;background-color: while;\">US</td><td style=\"color: purple;background-color: while;\">370.97</td></tr><tr style=\"\"><td style=\"color: purple;background-color: while;\">Apple</td><td style=\"color: purple;background-color: while;\">182.795</td><td style=\"color: purple;background-color: while;\">80300</td><td style=\"color: purple;background-color: while;\">US</td><td style=\"color: purple;background-color: while;\">637.51</td></tr><tr style=\"\"><td style=\"color: purple;background-color: while;\">Microsoft</td><td style=\"color: purple;background-color: while;\">86.83</td><td style=\"color: purple;background-color: while;\">100518</td><td style=\"color: purple;background-color: while;\">US</td><td style=\"color: purple;background-color: while;\">401.43</td></tr><tr style=\"\"><td style=\"color: purple;background-color: while;\">Amazon</td><td style=\"color: purple;background-color: while;\">74.45</td><td style=\"color: purple;background-color: while;\">109800</td><td style=\"color: purple;background-color: while;\">US</td><td style=\"color: purple;background-color: while;\">137.35</td></tr><tr style=\"\"><td style=\"color: purple;background-color: while;\">Ebay</td><td style=\"color: purple;background-color: while;\">16.05</td><td style=\"color: purple;background-color: while;\">33500</td><td style=\"color: purple;background-color: while;\">US</td><td style=\"color: purple;background-color: while;\">66.17</td></tr><tr style=\"\"><td style=\"color: purple;background-color: while;\">Baidu</td><td style=\"color: purple;background-color: while;\">5.152</td><td style=\"color: purple;background-color: while;\">40500</td><td style=\"color: purple;background-color: while;\">CN</td><td style=\"color: purple;background-color: while;\">83.09</td></tr><tr style=\"\"><td style=\"color: purple;background-color: while;\">Vipshop</td><td style=\"color: purple;background-color: while;\">1.522</td><td style=\"color: purple;background-color: while;\">8540</td><td style=\"color: purple;background-color: while;\">CN</td><td style=\"color: purple;background-color: while;\">13.26</td></tr><tr style=\"\"><td style=\"color: purple;background-color: while;\">JD</td><td style=\"color: purple;background-color: while;\">11.5</td><td style=\"color: purple;background-color: while;\">62061</td><td style=\"color: purple;background-color: while;\">CN</td><td style=\"color: purple;background-color: while;\">33.53</td></tr></table></center>\n",
        "    </div>\n",
        "    \n",
        "    <div name=\"name1\" style=\"display:none\">\n",
        "      <center><table style=\"\"><tr style=\"\"><td style=\"\">\u6837\u672c\\\u7279\u5f81</td><td style=\"\">\u4e0a\u5e74\u8425\u6536(B)</td><td style=\"\">\u96c7\u5458\u6570</td><td style=\"\">\u56fd\u5bb6</td><td style=\"\">\u5e02\u503c(B)</td></tr><tr style=\"\"><td style=\"font-weight: bold;color: red;background-color: while;\">Google</td><td style=\"color: purple;background-color: while;\">59.825</td><td style=\"color: purple;background-color: while;\">47576</td><td style=\"color: purple;background-color: while;\">US</td><td style=\"color: purple;background-color: while;\">370.97</td></tr><tr style=\"\"><td style=\"font-weight: bold;color: red;background-color: while;\">Apple</td><td style=\"color: purple;background-color: while;\">182.795</td><td style=\"color: purple;background-color: while;\">80300</td><td style=\"color: purple;background-color: while;\">US</td><td style=\"color: purple;background-color: while;\">637.51</td></tr><tr style=\"\"><td style=\"font-weight: bold;color: red;background-color: while;\">Microsoft</td><td style=\"color: purple;background-color: while;\">86.83</td><td style=\"color: purple;background-color: while;\">100518</td><td style=\"color: purple;background-color: while;\">US</td><td style=\"color: purple;background-color: while;\">401.43</td></tr><tr style=\"\"><td style=\"font-weight: bold;color: red;background-color: while;\">Amazon</td><td style=\"color: purple;background-color: while;\">74.45</td><td style=\"color: purple;background-color: while;\">109800</td><td style=\"color: purple;background-color: while;\">US</td><td style=\"color: purple;background-color: while;\">137.35</td></tr><tr style=\"\"><td style=\"font-weight: bold;color: red;background-color: while;\">Ebay</td><td style=\"color: purple;background-color: while;\">16.05</td><td style=\"color: purple;background-color: while;\">33500</td><td style=\"color: purple;background-color: while;\">US</td><td style=\"color: purple;background-color: while;\">66.17</td></tr><tr style=\"\"><td style=\"font-weight: bold;color: red;background-color: while;\">Baidu</td><td style=\"color: purple;background-color: while;\">5.152</td><td style=\"color: purple;background-color: while;\">40500</td><td style=\"color: purple;background-color: while;\">CN</td><td style=\"color: purple;background-color: while;\">83.09</td></tr><tr style=\"\"><td style=\"font-weight: bold;color: red;background-color: while;\">Vipshop</td><td style=\"color: purple;background-color: while;\">1.522</td><td style=\"color: purple;background-color: while;\">8540</td><td style=\"color: purple;background-color: while;\">CN</td><td style=\"color: purple;background-color: while;\">13.26</td></tr><tr style=\"\"><td style=\"font-weight: bold;color: red;background-color: while;\">JD</td><td style=\"color: purple;background-color: while;\">11.5</td><td style=\"color: purple;background-color: while;\">62061</td><td style=\"color: purple;background-color: while;\">CN</td><td style=\"color: purple;background-color: while;\">33.53</td></tr></table></center>\n",
        "    </div>\n",
        "    \n",
        "    <div name=\"name2\" style=\"display:none\">\n",
        "      <center><table style=\"\"><tr style=\"\"><td style=\"\">\u6837\u672c\\\u7279\u5f81</td><td style=\"font-weight: bold;color: black;\">\u4e0a\u5e74\u8425\u6536(B)</td><td style=\"font-weight: bold;color: black;\">\u96c7\u5458\u6570</td><td style=\"font-weight: bold;color: black;\">\u56fd\u5bb6</td><td style=\"\">\u5e02\u503c(B)</td></tr><tr style=\"\"><td style=\"font-weight: bold;color: red;background-color: while;\">Google</td><td style=\"color: purple;background-color: while;\">59.825</td><td style=\"color: purple;background-color: while;\">47576</td><td style=\"color: purple;background-color: while;\">US</td><td style=\"color: purple;background-color: while;\">370.97</td></tr><tr style=\"\"><td style=\"font-weight: bold;color: red;background-color: while;\">Apple</td><td style=\"color: purple;background-color: while;\">182.795</td><td style=\"color: purple;background-color: while;\">80300</td><td style=\"color: purple;background-color: while;\">US</td><td style=\"color: purple;background-color: while;\">637.51</td></tr><tr style=\"\"><td style=\"font-weight: bold;color: red;background-color: while;\">Microsoft</td><td style=\"color: purple;background-color: while;\">86.83</td><td style=\"color: purple;background-color: while;\">100518</td><td style=\"color: purple;background-color: while;\">US</td><td style=\"color: purple;background-color: while;\">401.43</td></tr><tr style=\"\"><td style=\"font-weight: bold;color: red;background-color: while;\">Amazon</td><td style=\"color: purple;background-color: while;\">74.45</td><td style=\"color: purple;background-color: while;\">109800</td><td style=\"color: purple;background-color: while;\">US</td><td style=\"color: purple;background-color: while;\">137.35</td></tr><tr style=\"\"><td style=\"font-weight: bold;color: red;background-color: while;\">Ebay</td><td style=\"color: purple;background-color: while;\">16.05</td><td style=\"color: purple;background-color: while;\">33500</td><td style=\"color: purple;background-color: while;\">US</td><td style=\"color: purple;background-color: while;\">66.17</td></tr><tr style=\"\"><td style=\"font-weight: bold;color: red;background-color: while;\">Baidu</td><td style=\"color: purple;background-color: while;\">5.152</td><td style=\"color: purple;background-color: while;\">40500</td><td style=\"color: purple;background-color: while;\">CN</td><td style=\"color: purple;background-color: while;\">83.09</td></tr><tr style=\"\"><td style=\"font-weight: bold;color: red;background-color: while;\">Vipshop</td><td style=\"color: purple;background-color: while;\">1.522</td><td style=\"color: purple;background-color: while;\">8540</td><td style=\"color: purple;background-color: while;\">CN</td><td style=\"color: purple;background-color: while;\">13.26</td></tr><tr style=\"\"><td style=\"font-weight: bold;color: red;background-color: while;\">JD</td><td style=\"color: purple;background-color: while;\">11.5</td><td style=\"color: purple;background-color: while;\">62061</td><td style=\"color: purple;background-color: while;\">CN</td><td style=\"color: purple;background-color: while;\">33.53</td></tr></table></center>\n",
        "    </div>\n",
        "    \n",
        "    <div name=\"name3\" style=\"display:none\">\n",
        "      <center><table style=\"\"><tr style=\"\"><td style=\"\">\u6837\u672c\\\u7279\u5f81</td><td style=\"font-weight: bold;color: black;\">\u4e0a\u5e74\u8425\u6536(B)</td><td style=\"font-weight: bold;color: black;\">\u96c7\u5458\u6570</td><td style=\"font-weight: bold;color: black;\">\u56fd\u5bb6</td><td style=\"font-weight: bold;color: blue;\">\u5e02\u503c(B)</td></tr><tr style=\"\"><td style=\"font-weight: bold;color: red;background-color: while;\">Google</td><td style=\"color: purple;background-color: while;\">59.825</td><td style=\"color: purple;background-color: while;\">47576</td><td style=\"color: purple;background-color: while;\">US</td><td style=\"font-weight: bold;color: blue;background-color: while;\">370.97</td></tr><tr style=\"\"><td style=\"font-weight: bold;color: red;background-color: while;\">Apple</td><td style=\"color: purple;background-color: while;\">182.795</td><td style=\"color: purple;background-color: while;\">80300</td><td style=\"color: purple;background-color: while;\">US</td><td style=\"font-weight: bold;color: blue;background-color: while;\">637.51</td></tr><tr style=\"\"><td style=\"font-weight: bold;color: red;background-color: while;\">Microsoft</td><td style=\"color: purple;background-color: while;\">86.83</td><td style=\"color: purple;background-color: while;\">100518</td><td style=\"color: purple;background-color: while;\">US</td><td style=\"font-weight: bold;color: blue;background-color: while;\">401.43</td></tr><tr style=\"\"><td style=\"font-weight: bold;color: red;background-color: while;\">Amazon</td><td style=\"color: purple;background-color: while;\">74.45</td><td style=\"color: purple;background-color: while;\">109800</td><td style=\"color: purple;background-color: while;\">US</td><td style=\"font-weight: bold;color: blue;background-color: while;\">137.35</td></tr><tr style=\"\"><td style=\"font-weight: bold;color: red;background-color: while;\">Ebay</td><td style=\"color: purple;background-color: while;\">16.05</td><td style=\"color: purple;background-color: while;\">33500</td><td style=\"color: purple;background-color: while;\">US</td><td style=\"font-weight: bold;color: blue;background-color: while;\">66.17</td></tr><tr style=\"\"><td style=\"font-weight: bold;color: red;background-color: while;\">Baidu</td><td style=\"color: purple;background-color: while;\">5.152</td><td style=\"color: purple;background-color: while;\">40500</td><td style=\"color: purple;background-color: while;\">CN</td><td style=\"font-weight: bold;color: blue;background-color: while;\">83.09</td></tr><tr style=\"\"><td style=\"font-weight: bold;color: red;background-color: while;\">Vipshop</td><td style=\"color: purple;background-color: while;\">1.522</td><td style=\"color: purple;background-color: while;\">8540</td><td style=\"color: purple;background-color: while;\">CN</td><td style=\"font-weight: bold;color: blue;background-color: while;\">13.26</td></tr><tr style=\"\"><td style=\"font-weight: bold;color: red;background-color: while;\">JD</td><td style=\"color: purple;background-color: while;\">11.5</td><td style=\"color: purple;background-color: while;\">62061</td><td style=\"color: purple;background-color: while;\">CN</td><td style=\"font-weight: bold;color: blue;background-color: while;\">33.53</td></tr></table></center>\n",
        "    </div>\n",
        "    \n",
        "      <input type=\"none\" value=\"0\" style=\"display:none;\">\n",
        "    </div>\n",
        "    </center>"
       ],
       "metadata": {},
       "output_type": "pyout",
       "prompt_number": 8,
       "text": [
        "<helpers.interact.StaticBuildTable at 0x111164a90>"
       ]
      }
     ],
     "prompt_number": 8
    },
    {
     "cell_type": "markdown",
     "metadata": {
      "slideshow": {
       "slide_type": "notes"
      }
     },
     "source": [
      "- \u201c\u8fd9\u4e9b\u6570\u636e\u90fd\u662f\u82b1\u4e86\u534a\u5c0f\u65f6\u5404\u79cdGoogle\u6765\u7684, \u7cbe\u51c6\u5ea6\u5b58\u7591, \u5c06\u5c31\u4e00\u4e0b\u201d\n",
      "- \u8bf4\u660eSamples, Features, \u548cTarget/Label"
     ]
    },
    {
     "cell_type": "code",
     "collapsed": false,
     "input": [
      "pt = PrettyTable(df[-1:], tstyle=TableStyle(theme=\"theme2\"), center=True)\n",
      "cs = CellStyle()\n",
      "cs.set(\"background-color\", \"while\")\n",
      "cs.set(\"color\", \"purple\")\n",
      "pt.set_cell_style(style=cs)\n",
      "pt.update_cell_style(cols=[4], rows=[0], color=\"blue\", font_weight=\"bold\")\n",
      "pt"
     ],
     "language": "python",
     "metadata": {
      "slideshow": {
       "slide_type": "fragment"
      }
     },
     "outputs": [
      {
       "html": [
        "<center><table style=\"\"><tr style=\"\"><td style=\"\">\u6837\u672c\\\u7279\u5f81</td><td style=\"\">\u4e0a\u5e74\u8425\u6536(B)</td><td style=\"\">\u96c7\u5458\u6570</td><td style=\"\">\u56fd\u5bb6</td><td style=\"\">\u5e02\u503c(B)</td></tr><tr style=\"\"><td style=\"color: purple;background-color: while;\">Alibaba</td><td style=\"color: purple;background-color: while;\">8.47</td><td style=\"color: purple;background-color: while;\">26845</td><td style=\"color: purple;background-color: while;\">CN</td><td style=\"font-weight: bold;color: blue;background-color: while;\">?</td></tr></table></center>"
       ],
       "metadata": {},
       "output_type": "pyout",
       "prompt_number": 9,
       "text": [
        "<helpers.pretty_table.PrettyTable at 0x1112547f0>"
       ]
      }
     ],
     "prompt_number": 9
    },
    {
     "cell_type": "markdown",
     "metadata": {
      "slideshow": {
       "slide_type": "slide"
      }
     },
     "source": [
      "<h1>\u6570\u636e\u9884\u5904\u7406-\u8bad\u7ec3\u96c6\u4e0e\u7279\u5f81</h1>\n",
      "\n",
      "* \u8fde\u7eed\u6027\u6570\u636e: \u76f4\u63a5\u4f5c\u4e3a\u7279\u5f81\u5411\u91cf\u7684\u4e00\u5458\n",
      "    * \u8425\u6536, \u96c7\u5458\u6570\n",
      "* \u79bb\u6563\u578b\u6570\u636e: 0-1\u5316\n",
      "    * \u56fd\u5bb6 -> \u56fd\u5bb6_CN, \u56fd\u5bb6_US"
     ]
    },
    {
     "cell_type": "code",
     "collapsed": false,
     "input": [
      "import numpy as np\n",
      "np.set_printoptions(precision=3, formatter={'float': lambda x: '{:6.3f}'.format(x)})"
     ],
     "language": "python",
     "metadata": {
      "slideshow": {
       "slide_type": "skip"
      }
     },
     "outputs": [],
     "prompt_number": 12
    },
    {
     "cell_type": "code",
     "collapsed": false,
     "input": [
      "from sklearn.feature_extraction import DictVectorizer as DV\n",
      "\n",
      "features = ['\u4e0a\u5e74\u8425\u6536(B)', '\u96c7\u5458\u6570', '\u56fd\u5bb6']\n",
      "train_set = df[:8][features].T.to_dict().values()\n",
      "vectorizer = DV(sparse=False)\n",
      "X = vectorizer.fit_transform(train_set)\n",
      "\n",
      "print(vectorizer.feature_names_)\n",
      "print(X)"
     ],
     "language": "python",
     "metadata": {
      "slideshow": {
       "slide_type": "fragment"
      }
     },
     "outputs": [
      {
       "output_type": "stream",
       "stream": "stdout",
       "text": [
        "['\u4e0a\u5e74\u8425\u6536(B)', '\u56fd\u5bb6=CN', '\u56fd\u5bb6=US', '\u96c7\u5458\u6570']\n",
        "[[59.825  0.000  1.000 47576.000]\n",
        " [182.795  0.000  1.000 80300.000]\n",
        " [86.830  0.000  1.000 100518.000]\n",
        " [74.450  0.000  1.000 109800.000]\n",
        " [16.050  0.000  1.000 33500.000]\n",
        " [ 5.152  1.000  0.000 40500.000]\n",
        " [ 1.522  1.000  0.000 8540.000]\n",
        " [11.500  1.000  0.000 62061.000]]\n"
       ]
      }
     ],
     "prompt_number": 16
    },
    {
     "cell_type": "markdown",
     "metadata": {
      "slideshow": {
       "slide_type": "slide"
      }
     },
     "source": [
      "<h1>\u6570\u636e\u9884\u5904\u7406-\u76ee\u6807+\u9884\u6d4b\u96c6</h1>\n",
      "\n",
      "* \u56de\u5f52\u7b97\u6cd5\u4e2d\u76ee\u6807\u80af\u5b9a\u662f\u79bb\u6563\u7684\u6570\u503c, \u76f4\u63a5\u53d6\u7528\u5373\u53ef\n",
      "* \u9884\u6d4b\u96c6\u5219\u9700\u8981\u7528\u8bad\u7ec3\u96c6\u540c\u6837\u7684\u65b9\u5f0f\u6765\u505a\u9884\u5904\u7406"
     ]
    },
    {
     "cell_type": "code",
     "collapsed": false,
     "input": [
      "y = df[:8]['\u5e02\u503c(B)'].tolist()\n",
      "print(np.array(y)[:, np.newaxis])"
     ],
     "language": "python",
     "metadata": {
      "slideshow": {
       "slide_type": "fragment"
      }
     },
     "outputs": [
      {
       "output_type": "stream",
       "stream": "stdout",
       "text": [
        "[[370.970]\n",
        " [637.510]\n",
        " [401.430]\n",
        " [137.350]\n",
        " [66.170]\n",
        " [83.090]\n",
        " [13.260]\n",
        " [33.530]]\n"
       ]
      }
     ],
     "prompt_number": 31
    },
    {
     "cell_type": "code",
     "collapsed": false,
     "input": [
      "predict_set = vectorizer.transform(df[8:][features].T.to_dict().values())\n",
      "print(vectorizer.feature_names_)\n",
      "print(predict_set)"
     ],
     "language": "python",
     "metadata": {
      "slideshow": {
       "slide_type": "fragment"
      }
     },
     "outputs": [
      {
       "output_type": "stream",
       "stream": "stdout",
       "text": [
        "['\u4e0a\u5e74\u8425\u6536(B)', '\u56fd\u5bb6=CN', '\u56fd\u5bb6=US', '\u96c7\u5458\u6570']\n",
        "[[ 8.470  1.000  0.000 26845.000]]\n"
       ]
      }
     ],
     "prompt_number": 26
    },
    {
     "cell_type": "markdown",
     "metadata": {
      "slideshow": {
       "slide_type": "slide"
      }
     },
     "source": [
      "<h1> \u51b3\u7b56\u6811\u5b66\u4e60 </h1>\n",
      "\n",
      "* \u6839\u636e\u6837\u672c\u7684\u67d0\u4e2a\u7279\u5f81\u8fdb\u884c\u4e8c\u5206, \u4f7f\u5f97\u5212\u5206\u540e\u7684\u4e24\u4e2a\u5b50\u96c6\u62e5\u6709\u6700\u4f18\u5316\u7684[\u71b5/\u8bef\u5dee]\n",
      "* \u4e0d\u65ad\u8fdb\u884c\u5212\u5206\u76f4\u5230\u7ec8\u6b62\u6761\u4ef6\u6ee1\u8db3(\u6bd4\u5982\u67d0\u4e2a\u5b50\u96c6\u540c\u5c5e\u4e00\u4e2a\u5206\u7c7b)\n",
      "* \u6cf0\u5766\u5c3c\u514b\u53f7\u751f\u6b7b\u51b3\u7b56\u6811 (from wiki)\n",
      "\n",
      "<img src=\"images/titanic.png\" >"
     ]
    },
    {
     "cell_type": "markdown",
     "metadata": {
      "slideshow": {
       "slide_type": "slide"
      }
     },
     "source": [
      "<h1>\u7b97\u6cd5\u5b9e\u73b0</h1>\n",
      "\n",
      "* ID3, CART, ...\n",
      "* \u5176\u5b9e\u662f\u4e2aNP\u95ee\u9898, \u6240\u6709\u7b97\u6cd5\u90fd\u662f\u4e00\u79cd\u5c40\u90e8\u6700\u4f18\n",
      "* \u5177\u4f53\u7b97\u6cd5\u8fc7\u7a0b\u5c31\u7565\u8fc7\u4e86, \u6709\u5174\u8da3\u81ea\u5df1\u7814\u7a76, \u4f46\u7528python\u7684\u8bdd, \u5176\u5b9e\u5c31\u53ea\u8981..."
     ]
    },
    {
     "cell_type": "code",
     "collapsed": false,
     "input": [
      "from sklearn.tree import DecisionTreeRegressor, export_graphviz\n",
      "\n",
      "# \u5efa\u7acb\u51b3\u7b56\u6811\u6a21\u578b\u6a21\u578b\n",
      "dt = DecisionTreeRegressor(max_depth=2).fit(X, y)\n",
      "\n",
      "# \u7528\u6a21\u578b\u9884\u6d4b\n",
      "dt.predict(predict_set)"
     ],
     "language": "python",
     "metadata": {
      "slideshow": {
       "slide_type": "fragment"
      }
     },
     "outputs": [
      {
       "metadata": {},
       "output_type": "pyout",
       "prompt_number": 35,
       "text": [
        "array([49.013])"
       ]
      }
     ],
     "prompt_number": 35
    },
    {
     "cell_type": "markdown",
     "metadata": {
      "slideshow": {
       "slide_type": "slide"
      }
     },
     "source": [
      "<h1>\u751f\u6210\u7684\u6811\u7684\u5185\u90e8\u7ed3\u6784</h1>"
     ]
    },
    {
     "cell_type": "code",
     "collapsed": false,
     "input": [
      "from pydot import graph_from_dot_data\n",
      "from io import StringIO\n",
      "\n",
      "out_file = StringIO()\n",
      "export_graphviz(dt, out_file=out_file, feature_names=vectorizer.feature_names_)\n",
      "graph = graph_from_dot_data(out_file.getvalue())\n",
      "graph.write_png('images/dt.png')\n",
      "Image(url='images/dt.png')"
     ],
     "language": "python",
     "metadata": {
      "slideshow": {
       "slide_type": "-"
      }
     },
     "outputs": [
      {
       "html": [
        "<img src=\"images/dt.png\"/>"
       ],
       "metadata": {},
       "output_type": "pyout",
       "prompt_number": 64,
       "text": [
        "<IPython.core.display.Image at 0x113d55160>"
       ]
      }
     ],
     "prompt_number": 64
    },
    {
     "cell_type": "markdown",
     "metadata": {
      "slideshow": {
       "slide_type": "slide"
      }
     },
     "source": [
      "<h1>\u592a\u7b80\u5355\u6ca1\u7528? \u6765\u4e2a\u731b\u4e00\u70b9\u7684</h1>\n",
      "\n",
      "* \u968f\u673a\u68ee\u6797: \u6700\u5f3a\u5927\u7684\u901a\u7528\u673a\u5668\u5b66\u4e60\u7b97\u6cd5\u4e4b\u4e00\n",
      "    * \u6548\u679c\u597d, \u7ecf\u5e38\u662f\u51c6\u786e\u5ea6\u6700\u9ad8\u7684\u7b97\u6cd5\u4e4b\u4e00\n",
      "    * \u65e0\u8111, \u57fa\u672c\u4e0a\u901a\u5403\u6240\u6709\u5206\u7c7b\u548c\u56de\u5f52\u95ee\u9898\n",
      "    * \u8bad\u7ec3\u548c\u9884\u6d4b\u901f\u5ea6\u5feb, \u800c\u4e14\u6613\u4e8e\u8fdb\u884c\u5206\u5e03\u5f0f\u8bad\u7ec3\n",
      "    * \u53c2\u6570\u5c11, \u8c03\u6559\u8f83\u7b80\u5355, \u8f83\u6613\u61c2\n",
      "    * \u987a\u5e26\u53ef\u4ee5\u505a\u7279\u5f81\u91cd\u8981\u6027\u8bc4\u4f30\n",
      "* \u968f\u673a\u68ee\u6797 = ?"
     ]
    },
    {
     "cell_type": "markdown",
     "metadata": {
      "slideshow": {
       "slide_type": "fragment"
      }
     },
     "source": [
      "    * \u51b3\u7b56\u6811+\u7ec4\u5408\u7b97\u6cd5"
     ]
    },
    {
     "cell_type": "markdown",
     "metadata": {
      "slideshow": {
       "slide_type": "slide"
      }
     },
     "source": [
      "<h1>\u968f\u673a\u68ee\u6797</h1>"
     ]
    },
    {
     "cell_type": "markdown",
     "metadata": {},
     "source": [
      "* \u52a8\u673a: \u5355\u4e2a\u51b3\u7b56\u6811\u4f1a\u51fa\u73b0\u504f\u5dee, \u5982\u679c\u7ec4\u5408\u591a\u4e2a\u51b3\u7b56\u6811\u8fdb\u884c\u6295\u7968, \u662f\u5426\u53ef\u4ee5\u62b5\u6d88\u504f\u5dee\u5f97\u5230\u66f4\u597d\u7684\u6a21\u578b? BINGO!"
     ]
    },
    {
     "cell_type": "markdown",
     "metadata": {
      "slideshow": {
       "slide_type": "fragment"
      }
     },
     "source": [
      "* \u600e\u4e48\u505a:\n",
      "    * \u5bf9\u539f\u6570\u636e\u8fdb\u884c\u591a\u6b21\u968f\u673a\u91c7\u6837+\u7279\u5f81\u5b50\u96c6, \u5728\u6b64\u57fa\u7840\u4e0a\u5efa\u7acb\u51b3\u7b56\u6811\n",
      "        * \u968f\u673a\u91c7\u6837 - \u968f\u673a\u53d6\u82e5\u5e72\u4e2a\u6837\u672c\n",
      "        * \u7279\u5f81\u5b50\u96c6 - \u968f\u673a\u53d6\u82e5\u5e72\u7684\u5b50\u96c6\n",
      "    * \u5e73\u5747\u4e0d\u540c\u51b3\u7b56\u6811\u7684\u51b3\u7b56\u6548\u679c"
     ]
    },
    {
     "cell_type": "markdown",
     "metadata": {
      "slideshow": {
       "slide_type": "slide"
      }
     },
     "source": [
      "<h1>\u968f\u673a\u91c7\u6837 \u4e0e \u7279\u5f81\u5b50\u96c6</h1>"
     ]
    },
    {
     "cell_type": "code",
     "collapsed": false,
     "input": [
      "from helpers.interact import StaticInteract\n",
      "from helpers.widgets import RangeWidget\n",
      "import random\n",
      "def showx(sample, subset):\n",
      "    sample, subset = int(sample), int(subset)\n",
      "    X2 = np.array(X, copy=True)\n",
      "    if sample != 0: \n",
      "        for _ in range(sample): X2[random.randint(0, 7), :] = X2[random.randint(0, 7), :]\n",
      "    if subset != 0: X2 = X2[:, random.sample([0,1,2,3], subset)]\n",
      "    return pd.DataFrame(X2)\n",
      "StaticInteract(showx, sample=RangeWidget(min=0,max=3,step=3), subset=RangeWidget(min=0,max=2,step=2))"
     ],
     "language": "python",
     "metadata": {},
     "outputs": [
      {
       "html": [
        "\n",
        "    <script type=\"text/javascript\">\n",
        "      function interactUpdate(div){\n",
        "         var outputs = div.getElementsByTagName(\"div\");\n",
        "         var controls = div.getElementsByTagName(\"input\");\n",
        "\n",
        "         var value = \"\";\n",
        "         for(i=0; i<controls.length; i++){\n",
        "           if((controls[i].type == \"range\") || controls[i].checked){\n",
        "             value = value + controls[i].getAttribute(\"name\") + controls[i].value;\n",
        "           }\n",
        "         }\n",
        "\n",
        "         for(i=0; i<outputs.length; i++){\n",
        "           var name = outputs[i].getAttribute(\"name\");\n",
        "           if(name == value){\n",
        "              outputs[i].style.display = 'block';\n",
        "           } else if (!name) {\n",
        "               outputs[i].style.display = 'block';\n",
        "           }else if(name != \"controls\"){\n",
        "              outputs[i].style.display = 'none';\n",
        "           }\n",
        "         }\n",
        "      }\n",
        "    </script>\n",
        "\n",
        "    <div>\n",
        "      \n",
        "    <div name=\"sample0subset0\" style=\"display:block\">\n",
        "      <div style=\"max-height:1000px;max-width:1500px;overflow:auto;\">\n",
        "<table border=\"1\" class=\"dataframe\">\n",
        "  <thead>\n",
        "    <tr style=\"text-align: right;\">\n",
        "      <th></th>\n",
        "      <th>0</th>\n",
        "      <th>1</th>\n",
        "      <th>2</th>\n",
        "      <th>3</th>\n",
        "    </tr>\n",
        "  </thead>\n",
        "  <tbody>\n",
        "    <tr>\n",
        "      <th>0</th>\n",
        "      <td>  59.825</td>\n",
        "      <td> 0</td>\n",
        "      <td> 1</td>\n",
        "      <td>  47576</td>\n",
        "    </tr>\n",
        "    <tr>\n",
        "      <th>1</th>\n",
        "      <td> 182.795</td>\n",
        "      <td> 0</td>\n",
        "      <td> 1</td>\n",
        "      <td>  80300</td>\n",
        "    </tr>\n",
        "    <tr>\n",
        "      <th>2</th>\n",
        "      <td>  86.830</td>\n",
        "      <td> 0</td>\n",
        "      <td> 1</td>\n",
        "      <td> 100518</td>\n",
        "    </tr>\n",
        "    <tr>\n",
        "      <th>3</th>\n",
        "      <td>  74.450</td>\n",
        "      <td> 0</td>\n",
        "      <td> 1</td>\n",
        "      <td> 109800</td>\n",
        "    </tr>\n",
        "    <tr>\n",
        "      <th>4</th>\n",
        "      <td>  16.050</td>\n",
        "      <td> 0</td>\n",
        "      <td> 1</td>\n",
        "      <td>  33500</td>\n",
        "    </tr>\n",
        "    <tr>\n",
        "      <th>5</th>\n",
        "      <td>   5.152</td>\n",
        "      <td> 1</td>\n",
        "      <td> 0</td>\n",
        "      <td>  40500</td>\n",
        "    </tr>\n",
        "    <tr>\n",
        "      <th>6</th>\n",
        "      <td>   1.522</td>\n",
        "      <td> 1</td>\n",
        "      <td> 0</td>\n",
        "      <td>   8540</td>\n",
        "    </tr>\n",
        "    <tr>\n",
        "      <th>7</th>\n",
        "      <td>  11.500</td>\n",
        "      <td> 1</td>\n",
        "      <td> 0</td>\n",
        "      <td>  62061</td>\n",
        "    </tr>\n",
        "  </tbody>\n",
        "</table>\n",
        "</div>\n",
        "    </div>\n",
        "    \n",
        "    <div name=\"sample0subset2\" style=\"display:none\">\n",
        "      <div style=\"max-height:1000px;max-width:1500px;overflow:auto;\">\n",
        "<table border=\"1\" class=\"dataframe\">\n",
        "  <thead>\n",
        "    <tr style=\"text-align: right;\">\n",
        "      <th></th>\n",
        "      <th>0</th>\n",
        "      <th>1</th>\n",
        "    </tr>\n",
        "  </thead>\n",
        "  <tbody>\n",
        "    <tr>\n",
        "      <th>0</th>\n",
        "      <td> 0</td>\n",
        "      <td>  59.825</td>\n",
        "    </tr>\n",
        "    <tr>\n",
        "      <th>1</th>\n",
        "      <td> 0</td>\n",
        "      <td> 182.795</td>\n",
        "    </tr>\n",
        "    <tr>\n",
        "      <th>2</th>\n",
        "      <td> 0</td>\n",
        "      <td>  86.830</td>\n",
        "    </tr>\n",
        "    <tr>\n",
        "      <th>3</th>\n",
        "      <td> 0</td>\n",
        "      <td>  74.450</td>\n",
        "    </tr>\n",
        "    <tr>\n",
        "      <th>4</th>\n",
        "      <td> 0</td>\n",
        "      <td>  16.050</td>\n",
        "    </tr>\n",
        "    <tr>\n",
        "      <th>5</th>\n",
        "      <td> 1</td>\n",
        "      <td>   5.152</td>\n",
        "    </tr>\n",
        "    <tr>\n",
        "      <th>6</th>\n",
        "      <td> 1</td>\n",
        "      <td>   1.522</td>\n",
        "    </tr>\n",
        "    <tr>\n",
        "      <th>7</th>\n",
        "      <td> 1</td>\n",
        "      <td>  11.500</td>\n",
        "    </tr>\n",
        "  </tbody>\n",
        "</table>\n",
        "</div>\n",
        "    </div>\n",
        "    \n",
        "    <div name=\"sample3subset0\" style=\"display:none\">\n",
        "      <div style=\"max-height:1000px;max-width:1500px;overflow:auto;\">\n",
        "<table border=\"1\" class=\"dataframe\">\n",
        "  <thead>\n",
        "    <tr style=\"text-align: right;\">\n",
        "      <th></th>\n",
        "      <th>0</th>\n",
        "      <th>1</th>\n",
        "      <th>2</th>\n",
        "      <th>3</th>\n",
        "    </tr>\n",
        "  </thead>\n",
        "  <tbody>\n",
        "    <tr>\n",
        "      <th>0</th>\n",
        "      <td>  59.825</td>\n",
        "      <td> 0</td>\n",
        "      <td> 1</td>\n",
        "      <td>  47576</td>\n",
        "    </tr>\n",
        "    <tr>\n",
        "      <th>1</th>\n",
        "      <td> 182.795</td>\n",
        "      <td> 0</td>\n",
        "      <td> 1</td>\n",
        "      <td>  80300</td>\n",
        "    </tr>\n",
        "    <tr>\n",
        "      <th>2</th>\n",
        "      <td>  86.830</td>\n",
        "      <td> 0</td>\n",
        "      <td> 1</td>\n",
        "      <td> 100518</td>\n",
        "    </tr>\n",
        "    <tr>\n",
        "      <th>3</th>\n",
        "      <td>   1.522</td>\n",
        "      <td> 1</td>\n",
        "      <td> 0</td>\n",
        "      <td>   8540</td>\n",
        "    </tr>\n",
        "    <tr>\n",
        "      <th>4</th>\n",
        "      <td>  16.050</td>\n",
        "      <td> 0</td>\n",
        "      <td> 1</td>\n",
        "      <td>  33500</td>\n",
        "    </tr>\n",
        "    <tr>\n",
        "      <th>5</th>\n",
        "      <td>   5.152</td>\n",
        "      <td> 1</td>\n",
        "      <td> 0</td>\n",
        "      <td>  40500</td>\n",
        "    </tr>\n",
        "    <tr>\n",
        "      <th>6</th>\n",
        "      <td>   1.522</td>\n",
        "      <td> 1</td>\n",
        "      <td> 0</td>\n",
        "      <td>   8540</td>\n",
        "    </tr>\n",
        "    <tr>\n",
        "      <th>7</th>\n",
        "      <td>   5.152</td>\n",
        "      <td> 1</td>\n",
        "      <td> 0</td>\n",
        "      <td>  40500</td>\n",
        "    </tr>\n",
        "  </tbody>\n",
        "</table>\n",
        "</div>\n",
        "    </div>\n",
        "    \n",
        "    <div name=\"sample3subset2\" style=\"display:none\">\n",
        "      <div style=\"max-height:1000px;max-width:1500px;overflow:auto;\">\n",
        "<table border=\"1\" class=\"dataframe\">\n",
        "  <thead>\n",
        "    <tr style=\"text-align: right;\">\n",
        "      <th></th>\n",
        "      <th>0</th>\n",
        "      <th>1</th>\n",
        "    </tr>\n",
        "  </thead>\n",
        "  <tbody>\n",
        "    <tr>\n",
        "      <th>0</th>\n",
        "      <td> 1</td>\n",
        "      <td> 0</td>\n",
        "    </tr>\n",
        "    <tr>\n",
        "      <th>1</th>\n",
        "      <td> 1</td>\n",
        "      <td> 0</td>\n",
        "    </tr>\n",
        "    <tr>\n",
        "      <th>2</th>\n",
        "      <td> 1</td>\n",
        "      <td> 0</td>\n",
        "    </tr>\n",
        "    <tr>\n",
        "      <th>3</th>\n",
        "      <td> 1</td>\n",
        "      <td> 0</td>\n",
        "    </tr>\n",
        "    <tr>\n",
        "      <th>4</th>\n",
        "      <td> 1</td>\n",
        "      <td> 0</td>\n",
        "    </tr>\n",
        "    <tr>\n",
        "      <th>5</th>\n",
        "      <td> 0</td>\n",
        "      <td> 1</td>\n",
        "    </tr>\n",
        "    <tr>\n",
        "      <th>6</th>\n",
        "      <td> 1</td>\n",
        "      <td> 0</td>\n",
        "    </tr>\n",
        "    <tr>\n",
        "      <th>7</th>\n",
        "      <td> 0</td>\n",
        "      <td> 1</td>\n",
        "    </tr>\n",
        "  </tbody>\n",
        "</table>\n",
        "</div>\n",
        "    </div>\n",
        "    \n",
        "      <input type=\"range\" name=\"sample\" min=\"0\" max=\"3\" step=\"3\" value=\"0\" style=\"width:350px\" onchange=\"interactUpdate(this.parentNode);\">\n",
        "<br>\n",
        "<input type=\"range\" name=\"subset\" min=\"0\" max=\"2\" step=\"2\" value=\"0\" style=\"width:350px\" onchange=\"interactUpdate(this.parentNode);\">\n",
        "    </div>\n",
        "    "
       ],
       "metadata": {},
       "output_type": "pyout",
       "prompt_number": 13,
       "text": [
        "<helpers.interact.StaticInteract at 0x1118d6dd8>"
       ]
      }
     ],
     "prompt_number": 13
    },
    {
     "cell_type": "markdown",
     "metadata": {
      "slideshow": {
       "slide_type": "slide"
      }
     },
     "source": [
      "<h1>\u5e94\u7528\u968f\u673a\u68ee\u6797\u7b97\u6cd5</h1>"
     ]
    },
    {
     "cell_type": "code",
     "collapsed": false,
     "input": [
      "from sklearn.ensemble import RandomForestRegressor\n",
      "\n",
      "# \u8bad\u7ec3\u6a21\u578b\n",
      "rf = RandomForestRegressor().fit(X, y)\n",
      "\n",
      "# \u7528\u6a21\u578b\u9884\u6d4b\n",
      "print(rf.predict(predict_set)[0])"
     ],
     "language": "python",
     "metadata": {},
     "outputs": [
      {
       "output_type": "stream",
       "stream": "stdout",
       "text": [
        "64.168\n"
       ]
      }
     ],
     "prompt_number": 44
    },
    {
     "cell_type": "code",
     "collapsed": false,
     "input": [
      "# \u7279\u5f81\u91cd\u8981\u6027\n",
      "print(vectorizer.feature_names_)\n",
      "print(rf.feature_importances_)"
     ],
     "language": "python",
     "metadata": {
      "slideshow": {
       "slide_type": "fragment"
      }
     },
     "outputs": [
      {
       "output_type": "stream",
       "stream": "stdout",
       "text": [
        "['\u4e0a\u5e74\u8425\u6536(B)', '\u56fd\u5bb6=CN', '\u56fd\u5bb6=US', '\u96c7\u5458\u6570']\n",
        "[ 0.763  0.100  0.000  0.136]\n"
       ]
      }
     ],
     "prompt_number": 45
    },
    {
     "cell_type": "markdown",
     "metadata": {
      "slideshow": {
       "slide_type": "slide"
      }
     },
     "source": [
      "<h1>\u6a21\u578b\u68c0\u9a8c</h1>\n",
      "\n",
      "* \u76ee\u524d\u4e3a\u6b62\u7528\u4e86\u4e24\u4e2a\u6a21\u578b\u4e86\n",
      "* \u6a21\u578b\u7684\u5b9e\u9645\u6548\u679c\u5982\u4f55\u68c0\u9a8c?\n",
      "    * \u4ea4\u53c9\u68c0\u9a8c: \u628a\u6807\u6ce8\u7684\u6570\u636e\u968f\u673a\u5206\u4e3a\u8bad\u7ec3\u7ec4\u548c\u6d4b\u8bd5\u7ec4, \u591a\u6b21\u7528\u8bad\u7ec3\u7ec4\u7684\u6a21\u578b\u6765\u9884\u6d4b\u6d4b\u8bd5\u7ec4\u7684\u7ed3\u679c\n",
      "    * e.g. \u5206\u7c7b\u7b97\u6cd5\u7684\u4ea4\u53c9\u68c0\u9a8c\n",
      "    \n",
      ". | \u5b9e\u9645\u4e3a\u771f(Positive) | \u5b9e\u9645\u4e3a\u5047(Negative)\n",
      "--- | --- | ---\n",
      "\u9884\u6d4b\u4e3a\u9633\u6027(True) | TP | TN\n",
      "\u9884\u6d4b\u4e3a\u9634\u6027(False) | FP | FN\n",
      "\n"
     ]
    },
    {
     "cell_type": "markdown",
     "metadata": {
      "slideshow": {
       "slide_type": "fragment"
      }
     },
     "source": [
      "* \u68c0\u9a8c\u5ea6\u91cf\n",
      "    * \u51c6\u786e\u7387 Accurancy = (TP+FN) / (TP+TN+FP+FN)\n",
      "    * \u7cbe\u5ea6 Precision = TP / (TP+FP)\n",
      "    * \u53ec\u56de\u7387 Recall = TP / (TP+FN)\n",
      "    * F-\u5ea6\u91cf F-measure = 2 * (Precision * Recall) / (Precision + Recall)\n",
      "    * \u5177\u4f53\u54ea\u79cd\u5ea6\u91cf\u53d6\u51b3\u4e8e\u5e94\u7528\u548c\u9700\u8981\u7684\u6548\u679c, \u4e0d\u5c55\u5f00"
     ]
    },
    {
     "cell_type": "markdown",
     "metadata": {
      "slideshow": {
       "slide_type": "slide"
      }
     },
     "source": [
      "<h1> \u56de\u5f52\u6a21\u578b\u7684\u68c0\u9a8c </h1>\n",
      "\n",
      "* \u4e00\u822c\u6a21\u578b\u7684R^2 Score\n",
      "* \u5f88\u591a\u6a21\u578b\u90fd\u81ea\u5e26\u68c0\u9a8cBuff (\u968f\u673a\u68ee\u6797 -> OOB\u68c0\u9a8c)\n",
      "* \u4e00\u822c\u6700\u4f73\u6a21\u578b\u7684\u5f97\u5206\u90fd\u662f1, \u5dee\u65e0\u5e95\u7ebf"
     ]
    },
    {
     "cell_type": "code",
     "collapsed": false,
     "input": [
      "from sklearn.cross_validation import cross_val_score\n",
      "cross_val_score(dt, X, y)"
     ],
     "language": "python",
     "metadata": {
      "slideshow": {
       "slide_type": "fragment"
      }
     },
     "outputs": [
      {
       "metadata": {},
       "output_type": "pyout",
       "prompt_number": 51,
       "text": [
        "array([-7.797, -59.311, -254.280])"
       ]
      }
     ],
     "prompt_number": 51
    },
    {
     "cell_type": "code",
     "collapsed": false,
     "input": [
      "RandomForestRegressor(oob_score=True).fit(X, y).oob_score_"
     ],
     "language": "python",
     "metadata": {
      "slideshow": {
       "slide_type": "fragment"
      }
     },
     "outputs": [
      {
       "metadata": {},
       "output_type": "pyout",
       "prompt_number": 39,
       "text": [
        "0.2047310504217299"
       ]
      }
     ],
     "prompt_number": 39
    },
    {
     "cell_type": "markdown",
     "metadata": {
      "slideshow": {
       "slide_type": "notes"
      }
     },
     "source": [
      "- \u51b3\u7b56\u6811\u5b8c\u5168\u4e0d\u79d1\u5b66\n",
      "- \u867d\u7136\u968f\u673a\u68ee\u6797\u505a\u51fa\u4e86\u5de8\u5927\u6539\u8fdb, \u8fd8\u662f\u4e0d\u79d1\u5b66"
     ]
    },
    {
     "cell_type": "markdown",
     "metadata": {
      "slideshow": {
       "slide_type": "slide"
      }
     },
     "source": [
      "<h1>\u6a21\u578b\u8c03\u4f18</h1>"
     ]
    },
    {
     "cell_type": "markdown",
     "metadata": {},
     "source": [
      "* \u5c3d\u7ba1\u6211\u4eec\u7684\u6a21\u578b\u57fa\u672c\u5b8c\u5168\u4e0d\u79d1\u5b66, \u4f46\u6211\u4eec\u8fd8\u662f\u53ef\u4ee5\u8bd5\u7740\u62a2\u6551\u4e00\u4e0b\n",
      "* \u62a2\u6551\u4e4b\u524d\u8ddf\u6211\u8bfb\u4e00\u53e5\u8bdd"
     ]
    },
    {
     "cell_type": "markdown",
     "metadata": {
      "slideshow": {
       "slide_type": "fragment"
      }
     },
     "source": [
      "<center><h3>We don't have better algorithms than others, we just have more data</h3><h3>-- Peter Norvig, Google Director of Research</h3></center>"
     ]
    },
    {
     "cell_type": "markdown",
     "metadata": {
      "slideshow": {
       "slide_type": "fragment"
      }
     },
     "source": [
      "* \u4e00\u822c\u6765\u8bf4, \u6570\u636e\u8d28\u91cf\u8fdc\u6bd4\u6a21\u578b\u8d28\u91cf\u5173\u952e, \u9884\u5904\u7406NB, \u6e23\u6a21\u578b\u4e5f\u80fd\u6709\u597d\u6548\u679c\n",
      "* \u6570\u636e\u8d28\u91cf\u5982\u4f55\u6539\u5584?\n",
      "* \u4ee5\u6211\u4eec\u7684\u5e02\u503c\u6a21\u578b\u4e3a\u4f8b:\n",
      "  * \u5fae\u8f6f\u548c\u4e9a\u9a6c\u900a\u5546\u4e1a\u6a21\u5f0f\u5dee\u592a\u8fdc\u4e86, \u653e\u4e00\u8d77\u6bd4\u8f83\u771f\u7684\u4e0d\u8981\u7d27\u4e48? (\u53bb\u9664\u65e0\u5173\u566a\u97f3\u6570\u636e)\n",
      "  * \u53ea\u8003\u8651\u8425\u6536, \u4e0d\u8003\u8651\u51c0\u5229\u6da6\u548c\u6210\u957f\u6027, \u8fd9\u4e0d\u79d1\u5b66! (\u52a0\u5f3a\u7279\u5f81, \u5c24\u5176\u662f\u597d\u7279\u5f81)\n",
      "  * \u624d8\u5bb6\u516c\u53f8\u5c31\u60f3\u603b\u7ed3\u51fa\u5168\u884c\u4e1a, \u6ca1\u641e\u9519? (\u589e\u52a0\u6837\u672c, \u8d8a\u591a\u8d8a\u597d(More Data ;))"
     ]
    },
    {
     "cell_type": "markdown",
     "metadata": {
      "slideshow": {
       "slide_type": "slide"
      }
     },
     "source": [
      "<h1>\u6a21\u578b\u8c03\u4f18(\u771f)</h1>\n",
      "\n",
      "* \u62a2\u6551\u8fc7\u6570\u636e\u4e86, \u7531\u4e8e\u5ba2\u89c2\u56e0\u7d20/\u4e3b\u89c2\u56e0\u7d20\u53ea\u80fd\u8fd9\u6837\u4e86\n",
      "* \u8c03\u6574\u6a21\u578b\u53c2\u6570\u6216\u8005\u53ef\u4ee5\u518d\u62a2\u6551\u4e00\u4e0b\n",
      "    * \u6700\u5927\u6df1\u5ea6\n",
      "    * \u6700\u591a\u7279\u5f81\u91c7\u6837\u4e2a\u6570\n",
      "    * \u51b3\u7b56\u6811\u7684\u4e2a\u6570\n",
      "* \u53c2\u6570\u7684\u7f51\u683c\u641c\u7d22(Grid Search)"
     ]
    },
    {
     "cell_type": "code",
     "collapsed": false,
     "input": [
      "from sklearn.grid_search import GridSearchCV\n",
      "parameters = [{'max_depth':[2, None], 'max_features':[2, None], 'n_estimators': [5, 20]}]\n",
      "gs = GridSearchCV(RandomForestRegressor(), parameters)\n",
      "gs.fit(X, y)\n",
      "gs.grid_scores_"
     ],
     "language": "python",
     "metadata": {
      "slideshow": {
       "slide_type": "fragment"
      }
     },
     "outputs": [
      {
       "metadata": {},
       "output_type": "pyout",
       "prompt_number": 58,
       "text": [
        "[mean: -39.89051, std: 23.51847, params: {'max_depth': 2, 'n_estimators': 5, 'max_features': 2},\n",
        " mean: -77.59731, std: 97.36136, params: {'max_depth': 2, 'n_estimators': 20, 'max_features': 2},\n",
        " mean: -20.44282, std: 8.98911, params: {'max_depth': 2, 'n_estimators': 5, 'max_features': None},\n",
        " mean: -46.55306, std: 37.74723, params: {'max_depth': 2, 'n_estimators': 20, 'max_features': None},\n",
        " mean: -40.22937, std: 29.65050, params: {'max_depth': None, 'n_estimators': 5, 'max_features': 2},\n",
        " mean: -100.12182, std: 130.31815, params: {'max_depth': None, 'n_estimators': 20, 'max_features': 2},\n",
        " mean: -52.99341, std: 45.43756, params: {'max_depth': None, 'n_estimators': 5, 'max_features': None},\n",
        " mean: -72.50866, std: 81.78926, params: {'max_depth': None, 'n_estimators': 20, 'max_features': None}]"
       ]
      }
     ],
     "prompt_number": 58
    },
    {
     "cell_type": "markdown",
     "metadata": {
      "slideshow": {
       "slide_type": "slide"
      }
     },
     "source": [
      "<h1>\u5b66\u4e60\u66f2\u7ebf\u5206\u6790</h1>\n",
      "\n",
      "* Bias\n",
      "    * \u6a21\u578b\u4e0e\u5b9e\u9645\u7ed3\u679c\u7684\u504f\u79bb (\u5929\u82b1\u677f)\n",
      "    * \u5f80\u5f80\u53d6\u51b3\u4e8e\u6a21\u578b\u662f\u5426fit\u539f\u59cb\u95ee\u9898\n",
      "* Variance\n",
      "    * \u6a21\u578b\u81ea\u8eab\u7684\u4e0d\u7a33\u5b9a\u6027\n",
      "    * \u5f80\u5f80\u4f1a\u56e0\u6570\u636e\u6539\u5584\u800c\u6539\u5584"
     ]
    },
    {
     "cell_type": "code",
     "collapsed": false,
     "input": [
      "Image(url=\"images/learningcurve.png\")"
     ],
     "language": "python",
     "metadata": {},
     "outputs": [
      {
       "html": [
        "<img src=\"images/learningcurve.png\"/>"
       ],
       "metadata": {},
       "output_type": "pyout",
       "prompt_number": 65,
       "text": [
        "<IPython.core.display.Image at 0x113da4208>"
       ]
      }
     ],
     "prompt_number": 65
    },
    {
     "cell_type": "markdown",
     "metadata": {
      "slideshow": {
       "slide_type": "slide"
      }
     },
     "source": [
      "<h1> \u673a\u5668\u5b66\u4e60\u5b9e\u8df5\u6d41\u7a0b\u603b\u7ed3 </h1>\n",
      "\n",
      "1. \u51c6\u5907\u6570\u636e\u548c\u8981\u89e3\u51b3\u7684\u95ee\u9898\n",
      "2. \u9009\u62e9\u4e00\u4e2a\u7b97\u6cd5\n",
      "3. \u9884\u5904\u7406\u6570\u636e->\u8bad\u7ec3->\u83b7\u5f97\u6a21\u578b\n",
      "4. \u5bf9\u6a21\u578b\u6548\u679c\u8fdb\u884c\u5404\u79cd\u68c0\u9a8c, \u4e0d\u6ee1\u610f->\u4f18\u5316\u5e76\u8fd4\u56de\u7b2c2\u6b65"
     ]
    },
    {
     "cell_type": "markdown",
     "metadata": {
      "slideshow": {
       "slide_type": "fragment"
      }
     },
     "source": [
      "* \u4e0d\u8fc7, \u600e\u4e48\u9009\u7b97\u6cd5?"
     ]
    },
    {
     "cell_type": "markdown",
     "metadata": {
      "slideshow": {
       "slide_type": "slide"
      }
     },
     "source": [
      "<h1> ML\u7b97\u6cd5\u9009\u62e9\u6307\u5357</h1>"
     ]
    },
    {
     "cell_type": "code",
     "collapsed": false,
     "input": [
      "Image(url='images/cheetsheet.png')"
     ],
     "language": "python",
     "metadata": {},
     "outputs": [
      {
       "html": [
        "<img src=\"images/cheetsheet.png\"/>"
       ],
       "metadata": {},
       "output_type": "pyout",
       "prompt_number": 66,
       "text": [
        "<IPython.core.display.Image at 0x113da41d0>"
       ]
      }
     ],
     "prompt_number": 66
    },
    {
     "cell_type": "markdown",
     "metadata": {
      "slideshow": {
       "slide_type": "slide"
      }
     },
     "source": [
      "<h1>\u5176\u4ed6(\u65e0\u6cd5\u7279\u5f81\u77e9\u9635\u5316)\u7b97\u6cd5</h1>"
     ]
    },
    {
     "cell_type": "markdown",
     "metadata": {},
     "source": [
      "* \u5173\u8054\u6027\u89c4\u5219\u7b97\u6cd5: Apriori, FP-Growth\n",
      "* \u63a8\u8350\u7cfb\u7edf: \u534f\u540c\u8fc7\u6ee4(Collaborative filtering), Content-based filtering\n",
      "* \u795e\u7ecf\u7f51\u7edc: \u591a\u5c42\u611f\u77e5\u673a(Multilayer Perceptron), \u6df1\u5ea6\u5b66\u4e60(Deep Learning)\n",
      "* BTW, Machine Learning 2013-2014 ~= Deep Learning 2013-2014"
     ]
    },
    {
     "cell_type": "markdown",
     "metadata": {
      "slideshow": {
       "slide_type": "slide"
      }
     },
     "source": [
      "<h1>\u7b97\u6cd5\u7684\u53d7\u6b22\u8fce\u7a0b\u5ea6?</h1>"
     ]
    },
    {
     "cell_type": "code",
     "collapsed": false,
     "input": [
      "Image(url='images/popularity.png')"
     ],
     "language": "python",
     "metadata": {},
     "outputs": [
      {
       "html": [
        "<img src=\"images/popularity.png\"/>"
       ],
       "metadata": {},
       "output_type": "pyout",
       "prompt_number": 67,
       "text": [
        "<IPython.core.display.Image at 0x113da4240>"
       ]
      }
     ],
     "prompt_number": 67
    },
    {
     "cell_type": "markdown",
     "metadata": {
      "slideshow": {
       "slide_type": "slide"
      }
     },
     "source": [
      "<h1 class=\"bigtitle\">\u4e09\u3001\u673a\u5668\u5b66\u4e60\u7684\u751f\u6001\u5708\u4e0ePython</h1>"
     ]
    },
    {
     "cell_type": "markdown",
     "metadata": {
      "slideshow": {
       "slide_type": "slide"
      }
     },
     "source": [
      "<h1>ML\u4ece\u4e1a\u4eba\u5458</h1>"
     ]
    },
    {
     "cell_type": "markdown",
     "metadata": {},
     "source": [
      "* \u79d1\u5b66\u5bb6(Data Scientist)\n",
      "    * \u5177\u6709\u6570\u5b66\u6a21\u578b\u5efa\u7acb\u4e0e\u63a8\u5bfc\u80fd\u529b\n",
      "    * \u80fd\u521b\u9020\u65b0\u7b97\u6cd5/\u6539\u8fdb\u7b97\u6cd5 (Deep Learning)\n",
      "* ML\u5de5\u7a0b\u5e08\n",
      "    * \u4e86\u89e3\u7b97\u6cd5\u7684\u5f3a\u5f31\u548c\u9002\u7528\u573a\u666f\n",
      "    * \u80fd\u5e94\u7528\u7b97\u6cd5\u89e3\u51b3\u5b9e\u9645\u95ee\u9898\n",
      "* \u6570\u636e\u5de5\u7a0b\u5e08\n",
      "    * \u80fd\u5bf9\u6570\u636e\u8fdb\u884c\u9884\u5904\u7406, \u91c7\u96c6/\u62bd\u53d6/\u8f6c\u6362/\u6e05\u6d17/\u5165\u5e93\n",
      "    * \u5206\u5e03\u5f0f\u5904\u7406, \u53ef\u9760\u6027\u4fdd\u969c, \u4ea7\u54c1\u5316"
     ]
    },
    {
     "cell_type": "markdown",
     "metadata": {
      "slideshow": {
       "slide_type": "slide"
      }
     },
     "source": [
      "<h1> Python\u7684ML\u751f\u6001\u5708 </h1>"
     ]
    },
    {
     "cell_type": "markdown",
     "metadata": {},
     "source": [
      "- numpy/scipy: \u57fa\u7840\u7684\u6570\u636e\u7ed3\u6784(\u5982\u77e9\u9635\u64cd\u4f5c)\u548c\u5e38\u7528\u7edf\u8ba1\u7b97\u6cd5\n",
      "- scikit-learn: \u6240\u6709\u7279\u5f81\u77e9\u9635\u7c7b\u95ee\u9898\u7684\u7b97\u6cd5\n",
      "- pandas: \u7edf\u8ba1\u5206\u6790\n",
      "- cython: \u5f53\u975e\u5e38\u9700\u8981\u6027\u80fd\u7684\u65f6\u5019\n",
      "- ipython(notebook): \u4ea4\u4e92\u5f0f\u5206\u6790, \u751f\u6210\u8bb2\u7a3f\n",
      "- graphviz/matplotlib: \u53ef\u89c6\u5316\u5206\u6790\n",
      "- \u5176\u4ed6: \u89c1github\u7684awesome-machine-learning"
     ]
    },
    {
     "cell_type": "code",
     "collapsed": false,
     "input": [
      "Image(url='images/awesomeml.png')"
     ],
     "language": "python",
     "metadata": {},
     "outputs": [
      {
       "html": [
        "<img src=\"images/awesomeml.png\"/>"
       ],
       "metadata": {},
       "output_type": "pyout",
       "prompt_number": 68,
       "text": [
        "<IPython.core.display.Image at 0x113da4080>"
       ]
      }
     ],
     "prompt_number": 68
    },
    {
     "cell_type": "markdown",
     "metadata": {
      "slideshow": {
       "slide_type": "slide"
      }
     },
     "source": [
      "<h1>Google Trends</h1>"
     ]
    },
    {
     "cell_type": "code",
     "collapsed": false,
     "input": [
      "from IPython.display import display\n",
      "display(Image(url='images/trends.png'))"
     ],
     "language": "python",
     "metadata": {},
     "outputs": [
      {
       "html": [
        "<img src=\"images/trends.png\"/>"
       ],
       "metadata": {},
       "output_type": "display_data",
       "text": [
        "<IPython.core.display.Image at 0x113da47f0>"
       ]
      }
     ],
     "prompt_number": 69
    },
    {
     "cell_type": "markdown",
     "metadata": {
      "slideshow": {
       "slide_type": "slide"
      }
     },
     "source": [
      "<h1>\"\u7528\u6237\"\u53e3\u7891</h1>\n",
      "\n",
      "* Python\u5927\u6cd5\u597d\n",
      "    * \u4eba\u591a\u5e93\u591a\u7701\u4e8b\n",
      "    * \u8bed\u8a00\u597d\u4f7f\u539f\u578b\u5feb\n",
      "    * \u901f\u5ea6\u5feb, \u5bb9\u6613\u4f18\u5316(\u4e2a\u4eba\u89c2\u70b9)\n",
      "    * \u6570\u636e\u5904\u7406\u3001\u539f\u578b\u5efa\u6a21\u3001\u53ef\u89c6\u5316\u5206\u6790\u3001\u5927\u89c4\u6a21\u4ea7\u54c1\u5316\u4e00\u6761\u9f99"
     ]
    },
    {
     "cell_type": "code",
     "collapsed": false,
     "input": [
      "display(Image(url='images/testimonial1.png'))\n",
      "display(Image(url='images/testimonial2.png'))"
     ],
     "language": "python",
     "metadata": {
      "slideshow": {
       "slide_type": "-"
      }
     },
     "outputs": [
      {
       "html": [
        "<img src=\"images/testimonial1.png\"/>"
       ],
       "metadata": {},
       "output_type": "display_data",
       "text": [
        "<IPython.core.display.Image at 0x113da4908>"
       ]
      },
      {
       "html": [
        "<img src=\"images/testimonial2.png\"/>"
       ],
       "metadata": {},
       "output_type": "display_data",
       "text": [
        "<IPython.core.display.Image at 0x113da48d0>"
       ]
      }
     ],
     "prompt_number": 70
    },
    {
     "cell_type": "markdown",
     "metadata": {
      "slideshow": {
       "slide_type": "slide"
      }
     },
     "source": [
      "<h1>\u4e0d\u540c\u8bed\u8a00ML\u7684\u4f18\u52a3(\u4e2a\u4eba\u89c2\u70b9)</h1>"
     ]
    },
    {
     "cell_type": "markdown",
     "metadata": {},
     "source": [
      "\u8bed\u8a00 | \u5e93\u4e0e\u793e\u533a | \u6570\u636e\u9884\u5904\u7406 | \u539f\u578b\u5efa\u6a21 | \u53ef\u89c6\u5316\u5206\u6790 | \u4ea7\u54c1\u5316/Scale | \u5904\u7406\u901f\u5ea6 | \u8d39\u7528 | \u603b\u5206\n",
      "--- | --- | --- | --- | --- | --- | --- | --- | ---\n",
      "Matlab | 5 | 1 | 5 | 3 | 1 | 1 | 0 | 16 \n",
      "R | 5 | 2 | 5 | 5 | 1 | 2 | 5 | 25\n",
      "Java | 3 | 3 | 1 | 1 | 5 | 5 | 5 | 23\n",
      "C/C++ | 3 | 3 | 0 | 2 | 3 | 5 | 5 | 21 \n",
      "Python | 5 | 5 | 5 | 5 | 4 | 4 | 5 | 33\n",
      "Scala | 3 | 5 | 3 | 1 | 5 | 5 | 5 | 27"
     ]
    },
    {
     "cell_type": "markdown",
     "metadata": {
      "slideshow": {
       "slide_type": "slide"
      }
     },
     "source": [
      "\n",
      "<center>\n",
      "    <h1>\u603b\u7ed3</h1>\n",
      "\n",
      "    <h2>\u673a\u5668\u5b66\u4e60\u7b97\u6cd5\u5f88\u591a\u5f88\u9177, \u5f88\u6709\u6316\u6398\u6f5c\u529b</h2>\n",
      "    <h2>\u539f\u59cb\u6570\u636e\u7684\u5904\u7406\u5176\u5b9e\u6bd4\u7b97\u6cd5\u66f4\u91cd\u8981</h2>\n",
      "    <h2>Python\u5728\u673a\u5668\u5b66\u4e60\u65b9\u9762\u662f\u4e2a\u6f5c\u529b\u80a1</h2>\n",
      "</center>"
     ]
    },
    {
     "cell_type": "markdown",
     "metadata": {
      "slideshow": {
       "slide_type": "slide"
      }
     },
     "source": [
      "<h1 class=\"bigtitle\">\u8c22\u8c22 + Q&A</h1>\n",
      "<h1>*\u514d\u8d23\u58f0\u660e: \u56fe\u90fd\u662f\u4e92\u8054\u7f51\u4e0a\u76f4\u63a5\u62ff\u7684, \u8bb0\u4e0d\u6e05\u6765\u6e90\u4e86, \u5982\u6709\u5192\u72af\u8bf7\u89c1\u8c05</h1>"
     ]
    },
    {
     "cell_type": "markdown",
     "metadata": {
      "slideshow": {
       "slide_type": "slide"
      }
     },
     "source": [
      "<h1>\u690d\u5165\u5f0f\u5e7f\u544a</h1>"
     ]
    },
    {
     "cell_type": "markdown",
     "metadata": {
      "slideshow": {
       "slide_type": "-"
      }
     },
     "source": [
      "<center><img src=\"images/hr.png\"></center>"
     ]
    }
   ],
   "metadata": {}
  }
 ]
}